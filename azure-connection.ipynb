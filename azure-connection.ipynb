{
 "cells": [
  {
   "cell_type": "code",
   "execution_count": 10,
   "metadata": {},
   "outputs": [],
   "source": [
    "import openai\n",
    "import os\n",
    "\n",
    "# VIEW JSON IN RESOURCES AND FROM THERE YOU CAN ALSO GET THE API VERSION (DROPDOWN)\n",
    "# Set environment variables for Azure OpenAI\n",
    "os.environ[\"OPENAI_API_TYPE\"] = \"azure\"\n",
    "os.environ[\"OPENAI_API_BASE\"] = \"https://tutorial-azure-openai-youtube.openai.azure.com/\"\n",
    "os.environ[\"OPENAI_API_KEY\"] = \"api-key\"  # Replace with your actual API key - from endpoints\n",
    "os.environ[\"OPENAI_API_VERSION\"] = \"2022-12-01\"\n",
    "deployment_name = \"gpt-35-turbo\" \n"
   ]
  },
  {
   "cell_type": "code",
   "execution_count": 9,
   "metadata": {},
   "outputs": [
    {
     "name": "stdout",
     "output_type": "stream",
     "text": [
      "Response: As an AI language model, I don't have emotions like humans do, but I'm functioning well, thank you! How may I assist you today?\n"
     ]
    }
   ],
   "source": [
    "import os\n",
    "from openai import AzureOpenAI\n",
    "\n",
    "# Set environment variables for Azure OpenAI\n",
    "api_key = os.getenv(\"AZURE_OPENAI_API_KEY\", \"api-key\")  # Replace with your actual API key\n",
    "api_base = os.getenv(\"AZURE_OPENAI_API_BASE\", \"https://tutorial-azure-openai-youtube.openai.azure.com/\")\n",
    "api_version = os.getenv(\"AZURE_OPENAI_API_VERSION\", \"2024-10-21\")\n",
    "deployment_name = \"gpt-35-turbo\"  # Replace with your deployment name\n",
    "\n",
    "# Instantiate the AzureOpenAI client\n",
    "client = AzureOpenAI(\n",
    "    api_key=api_key,\n",
    "    azure_endpoint=api_base,\n",
    "    api_version=api_version\n",
    ")\n",
    "\n",
    "try:\n",
    "    response = client.chat.completions.create(\n",
    "        model=deployment_name,  # Use \"model\" for Azure OpenAI\n",
    "        messages=[\n",
    "            {\"role\": \"user\", \"content\": \"Hello, how are you?\"}\n",
    "        ]\n",
    "    )\n",
    "    # Access the content using dot notation\n",
    "    print(\"Response:\", response.choices[0].message.content.strip())\n",
    "except Exception as e:\n",
    "    print(f\"An error occurred: {e}\")\n"
   ]
  }
 ],
 "metadata": {
  "kernelspec": {
   "display_name": "Python 3",
   "language": "python",
   "name": "python3"
  },
  "language_info": {
   "codemirror_mode": {
    "name": "ipython",
    "version": 3
   },
   "file_extension": ".py",
   "mimetype": "text/x-python",
   "name": "python",
   "nbconvert_exporter": "python",
   "pygments_lexer": "ipython3",
   "version": "3.9.7"
  }
 },
 "nbformat": 4,
 "nbformat_minor": 2
}
